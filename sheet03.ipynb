{
 "cells": [
  {
   "cell_type": "markdown",
   "metadata": {},
   "source": [
    "# Sheet 3"
   ]
  },
  {
   "cell_type": "code",
   "execution_count": null,
   "metadata": {},
   "outputs": [],
   "source": [
    "import numpy as np\n",
    "from matplotlib import pyplot as plt"
   ]
  },
  {
   "cell_type": "markdown",
   "metadata": {},
   "source": [
    "## 2 Similarity Measures on Jet Data Clusterings\n",
    "\n",
    "(a)\n",
    "\n",
    "load the ground truth labels and k-means partitions"
   ]
  },
  {
   "cell_type": "code",
   "execution_count": null,
   "metadata": {},
   "outputs": [],
   "source": [
    "# the dijet labels, corresponding to bottom, charm, light quarks\n",
    "labels = np.load('data/dijet_labels.npy')\n",
    "\n",
    "# 5 rows, each corresponding to a k-means clustering with [2, 3, 5, 10, 20] clusters respectively\n",
    "partitions = np.load('data/dijet_clusters.npy') \n",
    "ks = [2, 3, 5, 10, 20]\n",
    "\n",
    "print(labels.shape, partitions.shape)"
   ]
  },
  {
   "cell_type": "markdown",
   "metadata": {},
   "source": [
    "define function to create a hinton plot from a contingency matrix"
   ]
  },
  {
   "cell_type": "code",
   "execution_count": null,
   "metadata": {},
   "outputs": [],
   "source": [
    "from matplotlib import pyplot as plt\n",
    "\n",
    "\n",
    "def hinton_plot(matrix, max_weight=None, ax=None):\n",
    "    \"\"\"\n",
    "    Draw Hinton diagram for visualizing a weight matrix. \n",
    "    From https://matplotlib.org/3.1.1/gallery/specialty_plots/hinton_demo.html\n",
    "    \"\"\"\n",
    "    ax = ax if ax is not None else plt.gca()\n",
    "\n",
    "    if not max_weight:\n",
    "        max_weight = 2 ** np.ceil(np.log(np.abs(matrix).max()) / np.log(2))\n",
    "\n",
    "    ax.patch.set_facecolor('gray')\n",
    "    ax.set_aspect('equal', 'box')\n",
    "    ax.xaxis.set_major_locator(plt.NullLocator())\n",
    "    ax.yaxis.set_major_locator(plt.NullLocator())\n",
    "\n",
    "    for (x, y), w in np.ndenumerate(matrix):\n",
    "        color = 'white' if w > 0 else 'black'\n",
    "        size = np.sqrt(np.abs(w) / max_weight)\n",
    "        rect = plt.Rectangle([x - size / 2, y - size / 2], size, size,\n",
    "                             facecolor=color, edgecolor=color)\n",
    "        ax.add_patch(rect)\n",
    "\n",
    "    ax.autoscale_view()\n",
    "    ax.invert_yaxis()"
   ]
  },
  {
   "cell_type": "code",
   "execution_count": null,
   "metadata": {
    "scrolled": false
   },
   "outputs": [],
   "source": [
    "# TODO: compute the contingency matrices between labels and k-means partitions\n",
    "#       (either implement your own or find the function in sklearn.metrics.cluster)\n",
    "\n",
    "# TODO: visualize the contingency matrices via hinton plots and \n",
    "#       label the plots by the number of clusters used in k-means\n"
   ]
  },
  {
   "cell_type": "markdown",
   "metadata": {},
   "source": [
    "(b)"
   ]
  },
  {
   "cell_type": "code",
   "execution_count": null,
   "metadata": {},
   "outputs": [],
   "source": [
    "from sklearn.metrics import rand_score, adjusted_rand_score, mutual_info_score, v_measure_score\n",
    "\n",
    "for k, partition in zip(ks, partitions):\n",
    "    # TODO: compute and print the different scores as requested in the excercise"
   ]
  },
  {
   "cell_type": "markdown",
   "metadata": {},
   "source": [
    "## 3 Mutual Information for Image Matching\n",
    "(a)"
   ]
  },
  {
   "cell_type": "code",
   "execution_count": null,
   "metadata": {},
   "outputs": [],
   "source": [
    "# load the reference image and the proposals\n",
    "reference = np.load('data/t1_reference.npy')\n",
    "proposals = np.load('data/t2_registration_proposals.npy')\n",
    "\n",
    "plt.imshow(reference, cmap='gray')\n",
    "plt.title('reference image, T1 modality')\n",
    "plt.show();\n",
    "\n",
    "plt.imshow(proposals[0], cmap='gray')\n",
    "plt.title('first proposal image, T2 modality')\n",
    "plt.show();"
   ]
  },
  {
   "cell_type": "code",
   "execution_count": null,
   "metadata": {
    "scrolled": false
   },
   "outputs": [],
   "source": [
    "# create 16 subplots in order to plot all proposals in one figure\n",
    "fig, axs = plt.subplots(4, 4, figsize=(15, 15)) \n",
    "\n",
    "for i, (ax, proposal) in enumerate(zip(axs.flatten(), proposals)):\n",
    "    # TODO: make a scatterplot of the reference pixel intensities vs the pixel intensities in the i-th proposal\n",
    "    #       do not forget to label the axes\n",
    "    \n",
    "    ax.set_title(f'proposal {i}')\n",
    "plt.tight_layout()\n",
    "plt.show();"
   ]
  },
  {
   "cell_type": "markdown",
   "metadata": {},
   "source": [
    "(b)"
   ]
  },
  {
   "cell_type": "code",
   "execution_count": null,
   "metadata": {},
   "outputs": [],
   "source": [
    "# TODO: For each proposal, create a 2D histograms of pixel intensities of it and the reference \n",
    "#       (Choose a sensible range and bins for the histogram)\n",
    "# Hint: np.histogram2d, flatten the arrays as pixel positions don't matter\n",
    "\n",
    "histograms = \n",
    "\n",
    "# TODO: plot the histograms\n",
    "\n",
    "# create 16 subplots in order to plot all proposals in one figure\n",
    "fig, axs = plt.subplots(4, 4, figsize=(15, 15)) \n",
    "\n",
    "for i, (ax, hist) in enumerate(zip(axs.flatten(), histograms)):\n",
    "    # TODO: plot the histogram for the i'th proposal. \n",
    "    \n",
    "    ax.set_title(f'proposal {i}')\n",
    "    \n",
    "plt.tight_layout()\n",
    "plt.show();"
   ]
  },
  {
   "cell_type": "code",
   "execution_count": null,
   "metadata": {
    "scrolled": true
   },
   "outputs": [],
   "source": [
    "from sklearn.metrics import mutual_info_score\n",
    "\n",
    "# TODO: for each histogram, compute the mutual information score\n",
    "\n",
    "# TODO: order the proposal by MI, plot them in this order and include the scores in the titles of the plots"
   ]
  },
  {
   "cell_type": "code",
   "execution_count": null,
   "metadata": {},
   "outputs": [],
   "source": []
  }
 ],
 "metadata": {
  "kernelspec": {
   "display_name": "Python [conda env:mlph]",
   "language": "python",
   "name": "conda-env-mlph-py"
  },
  "language_info": {
   "codemirror_mode": {
    "name": "ipython",
    "version": 3
   },
   "file_extension": ".py",
   "mimetype": "text/x-python",
   "name": "python",
   "nbconvert_exporter": "python",
   "pygments_lexer": "ipython3",
   "version": "3.9.13"
  }
 },
 "nbformat": 4,
 "nbformat_minor": 2
}
